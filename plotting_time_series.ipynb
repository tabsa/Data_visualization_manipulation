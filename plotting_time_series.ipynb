{
 "cells": [
  {
   "cell_type": "markdown",
   "metadata": {},
   "source": [
    "# Example to visualize time-series data\n",
    "This notebook analysis signal data over time that has been collected on different instruments containing flashing lamps to measure the signal data. The signal data uses `discrete` or `continuous` scheme on the flashing lamps, which may affect the time-series pattern because of the different signal processing used. The objective is to analyse the impact that the instruments and flashing scheme have on the signal data.\n",
    "\n",
    "It is used a synthetic dataset stored on the `singal_sample_data.csv` file with the following field description:\n",
    " - `run_key` - uuid to identify a specific run\n",
    " - `instrument` - name of the instrument as `stringType`\n",
    " - `scheme` - flashing scheme that can be only `discrete` or `continuous`\n",
    " - `pass_no` - pass number as `integerType`, starts at 1\n",
    " - `flash_no` - flash number as `integerType`, starts at 1\n",
    " - `time_float` - time in min when signal was measured\n",
    " - `signal` - signal value\n",
    "\n",
    "---\n",
    "## Import packages\n",
    "Let us import `pandas` to read the csv-file as DataFrame and `matplotlib`, `seaborn`, `plotly` for data visualization."
   ]
  },
  {
   "cell_type": "code",
   "execution_count": 4,
   "metadata": {},
   "outputs": [],
   "source": [
    "import pandas as pd\n",
    "import matplotlib.pyplot as plt\n",
    "import seaborn as sns\n",
    "import plotly.express as px\n",
    "import plotly.graph_objs as go\n",
    "import plotly.offline as pyo"
   ]
  },
  {
   "cell_type": "markdown",
   "metadata": {},
   "source": [
    "## Read `signal_sample_data.csv` file"
   ]
  },
  {
   "cell_type": "code",
   "execution_count": 5,
   "metadata": {},
   "outputs": [
    {
     "data": {
      "text/html": [
       "<div>\n",
       "<style scoped>\n",
       "    .dataframe tbody tr th:only-of-type {\n",
       "        vertical-align: middle;\n",
       "    }\n",
       "\n",
       "    .dataframe tbody tr th {\n",
       "        vertical-align: top;\n",
       "    }\n",
       "\n",
       "    .dataframe thead th {\n",
       "        text-align: right;\n",
       "    }\n",
       "</style>\n",
       "<table border=\"1\" class=\"dataframe\">\n",
       "  <thead>\n",
       "    <tr style=\"text-align: right;\">\n",
       "      <th></th>\n",
       "      <th>run_key</th>\n",
       "      <th>run_no</th>\n",
       "      <th>instrument</th>\n",
       "      <th>scheme</th>\n",
       "      <th>pass_no</th>\n",
       "      <th>flash_no</th>\n",
       "      <th>time_float</th>\n",
       "      <th>signal</th>\n",
       "    </tr>\n",
       "  </thead>\n",
       "  <tbody>\n",
       "    <tr>\n",
       "      <th>0</th>\n",
       "      <td>0234-asd</td>\n",
       "      <td>1</td>\n",
       "      <td>i10</td>\n",
       "      <td>discrete</td>\n",
       "      <td>1</td>\n",
       "      <td>1</td>\n",
       "      <td>5.146601</td>\n",
       "      <td>0.253363</td>\n",
       "    </tr>\n",
       "    <tr>\n",
       "      <th>1</th>\n",
       "      <td>0234-asd</td>\n",
       "      <td>1</td>\n",
       "      <td>i10</td>\n",
       "      <td>discrete</td>\n",
       "      <td>1</td>\n",
       "      <td>2</td>\n",
       "      <td>5.140924</td>\n",
       "      <td>0.217533</td>\n",
       "    </tr>\n",
       "    <tr>\n",
       "      <th>2</th>\n",
       "      <td>0234-asd</td>\n",
       "      <td>1</td>\n",
       "      <td>i10</td>\n",
       "      <td>discrete</td>\n",
       "      <td>1</td>\n",
       "      <td>3</td>\n",
       "      <td>5.120772</td>\n",
       "      <td>0.266665</td>\n",
       "    </tr>\n",
       "    <tr>\n",
       "      <th>3</th>\n",
       "      <td>0234-asd</td>\n",
       "      <td>1</td>\n",
       "      <td>i10</td>\n",
       "      <td>discrete</td>\n",
       "      <td>2</td>\n",
       "      <td>1</td>\n",
       "      <td>6.237628</td>\n",
       "      <td>0.424502</td>\n",
       "    </tr>\n",
       "    <tr>\n",
       "      <th>4</th>\n",
       "      <td>0234-asd</td>\n",
       "      <td>1</td>\n",
       "      <td>i10</td>\n",
       "      <td>discrete</td>\n",
       "      <td>2</td>\n",
       "      <td>2</td>\n",
       "      <td>6.270189</td>\n",
       "      <td>0.428470</td>\n",
       "    </tr>\n",
       "    <tr>\n",
       "      <th>5</th>\n",
       "      <td>0234-asd</td>\n",
       "      <td>1</td>\n",
       "      <td>i10</td>\n",
       "      <td>discrete</td>\n",
       "      <td>2</td>\n",
       "      <td>3</td>\n",
       "      <td>6.213320</td>\n",
       "      <td>0.436210</td>\n",
       "    </tr>\n",
       "    <tr>\n",
       "      <th>6</th>\n",
       "      <td>0234-asd</td>\n",
       "      <td>1</td>\n",
       "      <td>i10</td>\n",
       "      <td>discrete</td>\n",
       "      <td>3</td>\n",
       "      <td>1</td>\n",
       "      <td>7.638489</td>\n",
       "      <td>0.632309</td>\n",
       "    </tr>\n",
       "    <tr>\n",
       "      <th>7</th>\n",
       "      <td>0234-asd</td>\n",
       "      <td>1</td>\n",
       "      <td>i10</td>\n",
       "      <td>discrete</td>\n",
       "      <td>3</td>\n",
       "      <td>2</td>\n",
       "      <td>7.685132</td>\n",
       "      <td>0.619283</td>\n",
       "    </tr>\n",
       "    <tr>\n",
       "      <th>8</th>\n",
       "      <td>0234-asd</td>\n",
       "      <td>1</td>\n",
       "      <td>i10</td>\n",
       "      <td>discrete</td>\n",
       "      <td>3</td>\n",
       "      <td>3</td>\n",
       "      <td>7.692587</td>\n",
       "      <td>0.658963</td>\n",
       "    </tr>\n",
       "    <tr>\n",
       "      <th>9</th>\n",
       "      <td>0sde-478</td>\n",
       "      <td>2</td>\n",
       "      <td>i10</td>\n",
       "      <td>discrete</td>\n",
       "      <td>1</td>\n",
       "      <td>1</td>\n",
       "      <td>5.117380</td>\n",
       "      <td>0.233197</td>\n",
       "    </tr>\n",
       "  </tbody>\n",
       "</table>\n",
       "</div>"
      ],
      "text/plain": [
       "    run_key  run_no instrument    scheme  pass_no  flash_no  time_float  \\\n",
       "0  0234-asd       1        i10  discrete        1         1    5.146601   \n",
       "1  0234-asd       1        i10  discrete        1         2    5.140924   \n",
       "2  0234-asd       1        i10  discrete        1         3    5.120772   \n",
       "3  0234-asd       1        i10  discrete        2         1    6.237628   \n",
       "4  0234-asd       1        i10  discrete        2         2    6.270189   \n",
       "5  0234-asd       1        i10  discrete        2         3    6.213320   \n",
       "6  0234-asd       1        i10  discrete        3         1    7.638489   \n",
       "7  0234-asd       1        i10  discrete        3         2    7.685132   \n",
       "8  0234-asd       1        i10  discrete        3         3    7.692587   \n",
       "9  0sde-478       2        i10  discrete        1         1    5.117380   \n",
       "\n",
       "     signal  \n",
       "0  0.253363  \n",
       "1  0.217533  \n",
       "2  0.266665  \n",
       "3  0.424502  \n",
       "4  0.428470  \n",
       "5  0.436210  \n",
       "6  0.632309  \n",
       "7  0.619283  \n",
       "8  0.658963  \n",
       "9  0.233197  "
      ]
     },
     "metadata": {},
     "output_type": "display_data"
    }
   ],
   "source": [
    "df = pd.read_csv('Data/signal_sample_data.csv')\n",
    "# # Create a 'run_no' column based on 'run_key'\n",
    "# df['run_no'] = df.groupby(['instrument', 'scheme', 'run_key']).ngroup() + 1\n",
    "\n",
    "display(df.head(10))"
   ]
  },
  {
   "cell_type": "code",
   "execution_count": 6,
   "metadata": {},
   "outputs": [
    {
     "data": {
      "text/plain": [
       "run_key        object\n",
       "run_no          int64\n",
       "instrument     object\n",
       "scheme         object\n",
       "pass_no         int64\n",
       "flash_no        int64\n",
       "time_float    float64\n",
       "signal        float64\n",
       "dtype: object"
      ]
     },
     "execution_count": 6,
     "metadata": {},
     "output_type": "execute_result"
    }
   ],
   "source": [
    "df.dtypes"
   ]
  },
  {
   "cell_type": "markdown",
   "metadata": {},
   "source": [
    "### Quick data analysis\n",
    " - Count the number of `pass_no x flash_no` per `run_key`\n",
    " - Describe on the `time_float` and `signal`"
   ]
  },
  {
   "cell_type": "code",
   "execution_count": 7,
   "metadata": {},
   "outputs": [
    {
     "data": {
      "text/plain": [
       "run_key                           instrument  scheme    \n",
       "0234-asd                          i10         discrete       9\n",
       "02DCA379-063D-DDE1-EE5E-496ECE79  i11         continuous    18\n",
       "0sde-478                          i10         discrete       9\n",
       "1ABA9CD9-A61D-9EC0-462A-BBA1E600  i11         continuous    18\n",
       "23d-fere                          i11         discrete       9\n",
       "25DAD5D7-BC93-18CC-D040-B505C988  i10         continuous    18\n",
       "55308D3E-223A-19D8-045C-84329685  i10         continuous    18\n",
       "858E56BF-FCD7-4277-45F5-F16F7633  i10         continuous    18\n",
       "DC8BD0A9-0B5D-1AEF-AE75-B2E35B8C  i11         continuous    18\n",
       "F5C26BFB-17CD-879C-06B1-22703F4E  i10         continuous    18\n",
       "FBD4C3C1-8DD2-C7FF-0B40-2C3143D0  i11         continuous    18\n",
       "sdas-210                          i11         discrete       9\n",
       "Name: pass_no, dtype: int64"
      ]
     },
     "execution_count": 7,
     "metadata": {},
     "output_type": "execute_result"
    }
   ],
   "source": [
    "df.groupby(by=['run_key', 'instrument', 'scheme'])['pass_no'].count()"
   ]
  },
  {
   "cell_type": "code",
   "execution_count": 8,
   "metadata": {},
   "outputs": [
    {
     "data": {
      "text/html": [
       "<div>\n",
       "<style scoped>\n",
       "    .dataframe tbody tr th:only-of-type {\n",
       "        vertical-align: middle;\n",
       "    }\n",
       "\n",
       "    .dataframe tbody tr th {\n",
       "        vertical-align: top;\n",
       "    }\n",
       "\n",
       "    .dataframe thead tr th {\n",
       "        text-align: left;\n",
       "    }\n",
       "\n",
       "    .dataframe thead tr:last-of-type th {\n",
       "        text-align: right;\n",
       "    }\n",
       "</style>\n",
       "<table border=\"1\" class=\"dataframe\">\n",
       "  <thead>\n",
       "    <tr>\n",
       "      <th></th>\n",
       "      <th></th>\n",
       "      <th colspan=\"8\" halign=\"left\">time_float</th>\n",
       "      <th colspan=\"8\" halign=\"left\">signal</th>\n",
       "    </tr>\n",
       "    <tr>\n",
       "      <th></th>\n",
       "      <th></th>\n",
       "      <th>count</th>\n",
       "      <th>mean</th>\n",
       "      <th>std</th>\n",
       "      <th>min</th>\n",
       "      <th>25%</th>\n",
       "      <th>50%</th>\n",
       "      <th>75%</th>\n",
       "      <th>max</th>\n",
       "      <th>count</th>\n",
       "      <th>mean</th>\n",
       "      <th>std</th>\n",
       "      <th>min</th>\n",
       "      <th>25%</th>\n",
       "      <th>50%</th>\n",
       "      <th>75%</th>\n",
       "      <th>max</th>\n",
       "    </tr>\n",
       "    <tr>\n",
       "      <th>instrument</th>\n",
       "      <th>scheme</th>\n",
       "      <th></th>\n",
       "      <th></th>\n",
       "      <th></th>\n",
       "      <th></th>\n",
       "      <th></th>\n",
       "      <th></th>\n",
       "      <th></th>\n",
       "      <th></th>\n",
       "      <th></th>\n",
       "      <th></th>\n",
       "      <th></th>\n",
       "      <th></th>\n",
       "      <th></th>\n",
       "      <th></th>\n",
       "      <th></th>\n",
       "      <th></th>\n",
       "    </tr>\n",
       "  </thead>\n",
       "  <tbody>\n",
       "    <tr>\n",
       "      <th rowspan=\"2\" valign=\"top\">i10</th>\n",
       "      <th>continuous</th>\n",
       "      <td>72.0</td>\n",
       "      <td>6.427252</td>\n",
       "      <td>1.216158</td>\n",
       "      <td>4.069707</td>\n",
       "      <td>5.313937</td>\n",
       "      <td>6.666526</td>\n",
       "      <td>7.464387</td>\n",
       "      <td>8.253810</td>\n",
       "      <td>72.0</td>\n",
       "      <td>0.506176</td>\n",
       "      <td>0.130653</td>\n",
       "      <td>0.253363</td>\n",
       "      <td>0.401299</td>\n",
       "      <td>0.514667</td>\n",
       "      <td>0.595636</td>\n",
       "      <td>0.794139</td>\n",
       "    </tr>\n",
       "    <tr>\n",
       "      <th>discrete</th>\n",
       "      <td>18.0</td>\n",
       "      <td>6.340237</td>\n",
       "      <td>1.061704</td>\n",
       "      <td>5.117380</td>\n",
       "      <td>5.152298</td>\n",
       "      <td>6.218945</td>\n",
       "      <td>7.635751</td>\n",
       "      <td>7.692587</td>\n",
       "      <td>18.0</td>\n",
       "      <td>0.442294</td>\n",
       "      <td>0.171246</td>\n",
       "      <td>0.205061</td>\n",
       "      <td>0.258439</td>\n",
       "      <td>0.436070</td>\n",
       "      <td>0.629052</td>\n",
       "      <td>0.674966</td>\n",
       "    </tr>\n",
       "    <tr>\n",
       "      <th rowspan=\"2\" valign=\"top\">i11</th>\n",
       "      <th>continuous</th>\n",
       "      <td>72.0</td>\n",
       "      <td>6.517251</td>\n",
       "      <td>1.221174</td>\n",
       "      <td>4.138669</td>\n",
       "      <td>5.417916</td>\n",
       "      <td>6.788654</td>\n",
       "      <td>7.542278</td>\n",
       "      <td>8.379428</td>\n",
       "      <td>72.0</td>\n",
       "      <td>0.605277</td>\n",
       "      <td>0.142787</td>\n",
       "      <td>0.347003</td>\n",
       "      <td>0.488787</td>\n",
       "      <td>0.594810</td>\n",
       "      <td>0.711909</td>\n",
       "      <td>0.893481</td>\n",
       "    </tr>\n",
       "    <tr>\n",
       "      <th>discrete</th>\n",
       "      <td>18.0</td>\n",
       "      <td>6.356832</td>\n",
       "      <td>1.053199</td>\n",
       "      <td>5.125110</td>\n",
       "      <td>5.193032</td>\n",
       "      <td>6.235187</td>\n",
       "      <td>7.651436</td>\n",
       "      <td>7.685105</td>\n",
       "      <td>18.0</td>\n",
       "      <td>0.451623</td>\n",
       "      <td>0.168265</td>\n",
       "      <td>0.208921</td>\n",
       "      <td>0.279538</td>\n",
       "      <td>0.473551</td>\n",
       "      <td>0.605028</td>\n",
       "      <td>0.676574</td>\n",
       "    </tr>\n",
       "  </tbody>\n",
       "</table>\n",
       "</div>"
      ],
      "text/plain": [
       "                      time_float                                          \\\n",
       "                           count      mean       std       min       25%   \n",
       "instrument scheme                                                          \n",
       "i10        continuous       72.0  6.427252  1.216158  4.069707  5.313937   \n",
       "           discrete         18.0  6.340237  1.061704  5.117380  5.152298   \n",
       "i11        continuous       72.0  6.517251  1.221174  4.138669  5.417916   \n",
       "           discrete         18.0  6.356832  1.053199  5.125110  5.193032   \n",
       "\n",
       "                                                    signal            \\\n",
       "                            50%       75%       max  count      mean   \n",
       "instrument scheme                                                      \n",
       "i10        continuous  6.666526  7.464387  8.253810   72.0  0.506176   \n",
       "           discrete    6.218945  7.635751  7.692587   18.0  0.442294   \n",
       "i11        continuous  6.788654  7.542278  8.379428   72.0  0.605277   \n",
       "           discrete    6.235187  7.651436  7.685105   18.0  0.451623   \n",
       "\n",
       "                                                                         \\\n",
       "                            std       min       25%       50%       75%   \n",
       "instrument scheme                                                         \n",
       "i10        continuous  0.130653  0.253363  0.401299  0.514667  0.595636   \n",
       "           discrete    0.171246  0.205061  0.258439  0.436070  0.629052   \n",
       "i11        continuous  0.142787  0.347003  0.488787  0.594810  0.711909   \n",
       "           discrete    0.168265  0.208921  0.279538  0.473551  0.605028   \n",
       "\n",
       "                                 \n",
       "                            max  \n",
       "instrument scheme                \n",
       "i10        continuous  0.794139  \n",
       "           discrete    0.674966  \n",
       "i11        continuous  0.893481  \n",
       "           discrete    0.676574  "
      ]
     },
     "execution_count": 8,
     "metadata": {},
     "output_type": "execute_result"
    }
   ],
   "source": [
    "df.groupby(by=['instrument', 'scheme'])[['time_float', 'signal']].describe() # Add 'pass_no' on the groupby"
   ]
  },
  {
   "cell_type": "markdown",
   "metadata": {},
   "source": [
    "## Plotting time-series\n",
    "Focus on a single instrument to understand how `scheme` impacts the signal data. First, let us filtered the signal on one of the instruments"
   ]
  },
  {
   "cell_type": "code",
   "execution_count": 9,
   "metadata": {},
   "outputs": [],
   "source": [
    "\n",
    "instrument_name = 'i10'\n",
    "instrument_df = df[df['instrument'] == instrument_name]"
   ]
  },
  {
   "cell_type": "markdown",
   "metadata": {},
   "source": [
    "Split the `instrument_df` into two subsets based on the 'scheme' column: 'discrete' and 'continuous'. This makes easy for us to plot the average (or other stats) in the plot."
   ]
  },
  {
   "cell_type": "code",
   "execution_count": 10,
   "metadata": {},
   "outputs": [
    {
     "data": {
      "text/html": [
       "<div>\n",
       "<style scoped>\n",
       "    .dataframe tbody tr th:only-of-type {\n",
       "        vertical-align: middle;\n",
       "    }\n",
       "\n",
       "    .dataframe tbody tr th {\n",
       "        vertical-align: top;\n",
       "    }\n",
       "\n",
       "    .dataframe thead th {\n",
       "        text-align: right;\n",
       "    }\n",
       "</style>\n",
       "<table border=\"1\" class=\"dataframe\">\n",
       "  <thead>\n",
       "    <tr style=\"text-align: right;\">\n",
       "      <th></th>\n",
       "      <th>pass_no</th>\n",
       "      <th>flash_no</th>\n",
       "      <th>time_float</th>\n",
       "      <th>signal</th>\n",
       "    </tr>\n",
       "  </thead>\n",
       "  <tbody>\n",
       "    <tr>\n",
       "      <th>0</th>\n",
       "      <td>1</td>\n",
       "      <td>1</td>\n",
       "      <td>5.131991</td>\n",
       "      <td>0.243280</td>\n",
       "    </tr>\n",
       "    <tr>\n",
       "      <th>1</th>\n",
       "      <td>1</td>\n",
       "      <td>2</td>\n",
       "      <td>5.155155</td>\n",
       "      <td>0.236615</td>\n",
       "    </tr>\n",
       "    <tr>\n",
       "      <th>2</th>\n",
       "      <td>1</td>\n",
       "      <td>3</td>\n",
       "      <td>5.125297</td>\n",
       "      <td>0.235863</td>\n",
       "    </tr>\n",
       "    <tr>\n",
       "      <th>3</th>\n",
       "      <td>2</td>\n",
       "      <td>1</td>\n",
       "      <td>6.228176</td>\n",
       "      <td>0.430216</td>\n",
       "    </tr>\n",
       "    <tr>\n",
       "      <th>4</th>\n",
       "      <td>2</td>\n",
       "      <td>2</td>\n",
       "      <td>6.244677</td>\n",
       "      <td>0.463516</td>\n",
       "    </tr>\n",
       "    <tr>\n",
       "      <th>5</th>\n",
       "      <td>2</td>\n",
       "      <td>3</td>\n",
       "      <td>6.206983</td>\n",
       "      <td>0.443337</td>\n",
       "    </tr>\n",
       "    <tr>\n",
       "      <th>6</th>\n",
       "      <td>3</td>\n",
       "      <td>1</td>\n",
       "      <td>7.645390</td>\n",
       "      <td>0.634381</td>\n",
       "    </tr>\n",
       "    <tr>\n",
       "      <th>7</th>\n",
       "      <td>3</td>\n",
       "      <td>2</td>\n",
       "      <td>7.664404</td>\n",
       "      <td>0.647125</td>\n",
       "    </tr>\n",
       "    <tr>\n",
       "      <th>8</th>\n",
       "      <td>3</td>\n",
       "      <td>3</td>\n",
       "      <td>7.660062</td>\n",
       "      <td>0.646313</td>\n",
       "    </tr>\n",
       "  </tbody>\n",
       "</table>\n",
       "</div>"
      ],
      "text/plain": [
       "   pass_no  flash_no  time_float    signal\n",
       "0        1         1    5.131991  0.243280\n",
       "1        1         2    5.155155  0.236615\n",
       "2        1         3    5.125297  0.235863\n",
       "3        2         1    6.228176  0.430216\n",
       "4        2         2    6.244677  0.463516\n",
       "5        2         3    6.206983  0.443337\n",
       "6        3         1    7.645390  0.634381\n",
       "7        3         2    7.664404  0.647125\n",
       "8        3         3    7.660062  0.646313"
      ]
     },
     "metadata": {},
     "output_type": "display_data"
    }
   ],
   "source": [
    "discrete_df = instrument_df[instrument_df['scheme'] == 'discrete'].copy()\n",
    "# Calculate the mean time-series for 'discrete' scheme\n",
    "discrete_mean = discrete_df.groupby(by=['pass_no', 'flash_no'])[['time_float', 'signal']].mean().reset_index()\n",
    "\n",
    "display(discrete_mean)"
   ]
  },
  {
   "cell_type": "code",
   "execution_count": 11,
   "metadata": {},
   "outputs": [
    {
     "data": {
      "text/html": [
       "<div>\n",
       "<style scoped>\n",
       "    .dataframe tbody tr th:only-of-type {\n",
       "        vertical-align: middle;\n",
       "    }\n",
       "\n",
       "    .dataframe tbody tr th {\n",
       "        vertical-align: top;\n",
       "    }\n",
       "\n",
       "    .dataframe thead th {\n",
       "        text-align: right;\n",
       "    }\n",
       "</style>\n",
       "<table border=\"1\" class=\"dataframe\">\n",
       "  <thead>\n",
       "    <tr style=\"text-align: right;\">\n",
       "      <th></th>\n",
       "      <th>pass_no</th>\n",
       "      <th>flash_no</th>\n",
       "      <th>time_float</th>\n",
       "      <th>signal</th>\n",
       "    </tr>\n",
       "  </thead>\n",
       "  <tbody>\n",
       "    <tr>\n",
       "      <th>0</th>\n",
       "      <td>1</td>\n",
       "      <td>1</td>\n",
       "      <td>4.102732</td>\n",
       "      <td>0.331772</td>\n",
       "    </tr>\n",
       "    <tr>\n",
       "      <th>1</th>\n",
       "      <td>2</td>\n",
       "      <td>1</td>\n",
       "      <td>4.567128</td>\n",
       "      <td>0.347109</td>\n",
       "    </tr>\n",
       "    <tr>\n",
       "      <th>2</th>\n",
       "      <td>3</td>\n",
       "      <td>1</td>\n",
       "      <td>4.990663</td>\n",
       "      <td>0.360592</td>\n",
       "    </tr>\n",
       "    <tr>\n",
       "      <th>3</th>\n",
       "      <td>4</td>\n",
       "      <td>1</td>\n",
       "      <td>5.239340</td>\n",
       "      <td>0.383854</td>\n",
       "    </tr>\n",
       "    <tr>\n",
       "      <th>4</th>\n",
       "      <td>5</td>\n",
       "      <td>1</td>\n",
       "      <td>5.256014</td>\n",
       "      <td>0.371221</td>\n",
       "    </tr>\n",
       "    <tr>\n",
       "      <th>5</th>\n",
       "      <td>6</td>\n",
       "      <td>1</td>\n",
       "      <td>5.720587</td>\n",
       "      <td>0.420705</td>\n",
       "    </tr>\n",
       "    <tr>\n",
       "      <th>6</th>\n",
       "      <td>7</td>\n",
       "      <td>1</td>\n",
       "      <td>5.802672</td>\n",
       "      <td>0.420707</td>\n",
       "    </tr>\n",
       "    <tr>\n",
       "      <th>7</th>\n",
       "      <td>8</td>\n",
       "      <td>1</td>\n",
       "      <td>6.117686</td>\n",
       "      <td>0.468247</td>\n",
       "    </tr>\n",
       "    <tr>\n",
       "      <th>8</th>\n",
       "      <td>9</td>\n",
       "      <td>1</td>\n",
       "      <td>6.414763</td>\n",
       "      <td>0.522964</td>\n",
       "    </tr>\n",
       "    <tr>\n",
       "      <th>9</th>\n",
       "      <td>10</td>\n",
       "      <td>1</td>\n",
       "      <td>6.934031</td>\n",
       "      <td>0.531049</td>\n",
       "    </tr>\n",
       "    <tr>\n",
       "      <th>10</th>\n",
       "      <td>11</td>\n",
       "      <td>1</td>\n",
       "      <td>7.155844</td>\n",
       "      <td>0.522757</td>\n",
       "    </tr>\n",
       "    <tr>\n",
       "      <th>11</th>\n",
       "      <td>12</td>\n",
       "      <td>1</td>\n",
       "      <td>7.243354</td>\n",
       "      <td>0.553192</td>\n",
       "    </tr>\n",
       "    <tr>\n",
       "      <th>12</th>\n",
       "      <td>13</td>\n",
       "      <td>1</td>\n",
       "      <td>7.383890</td>\n",
       "      <td>0.546266</td>\n",
       "    </tr>\n",
       "    <tr>\n",
       "      <th>13</th>\n",
       "      <td>14</td>\n",
       "      <td>1</td>\n",
       "      <td>7.450055</td>\n",
       "      <td>0.602739</td>\n",
       "    </tr>\n",
       "    <tr>\n",
       "      <th>14</th>\n",
       "      <td>15</td>\n",
       "      <td>1</td>\n",
       "      <td>7.527430</td>\n",
       "      <td>0.630778</td>\n",
       "    </tr>\n",
       "    <tr>\n",
       "      <th>15</th>\n",
       "      <td>16</td>\n",
       "      <td>1</td>\n",
       "      <td>7.663245</td>\n",
       "      <td>0.664375</td>\n",
       "    </tr>\n",
       "    <tr>\n",
       "      <th>16</th>\n",
       "      <td>17</td>\n",
       "      <td>1</td>\n",
       "      <td>7.928268</td>\n",
       "      <td>0.697153</td>\n",
       "    </tr>\n",
       "    <tr>\n",
       "      <th>17</th>\n",
       "      <td>18</td>\n",
       "      <td>1</td>\n",
       "      <td>8.192840</td>\n",
       "      <td>0.735696</td>\n",
       "    </tr>\n",
       "  </tbody>\n",
       "</table>\n",
       "</div>"
      ],
      "text/plain": [
       "    pass_no  flash_no  time_float    signal\n",
       "0         1         1    4.102732  0.331772\n",
       "1         2         1    4.567128  0.347109\n",
       "2         3         1    4.990663  0.360592\n",
       "3         4         1    5.239340  0.383854\n",
       "4         5         1    5.256014  0.371221\n",
       "5         6         1    5.720587  0.420705\n",
       "6         7         1    5.802672  0.420707\n",
       "7         8         1    6.117686  0.468247\n",
       "8         9         1    6.414763  0.522964\n",
       "9        10         1    6.934031  0.531049\n",
       "10       11         1    7.155844  0.522757\n",
       "11       12         1    7.243354  0.553192\n",
       "12       13         1    7.383890  0.546266\n",
       "13       14         1    7.450055  0.602739\n",
       "14       15         1    7.527430  0.630778\n",
       "15       16         1    7.663245  0.664375\n",
       "16       17         1    7.928268  0.697153\n",
       "17       18         1    8.192840  0.735696"
      ]
     },
     "metadata": {},
     "output_type": "display_data"
    }
   ],
   "source": [
    "continuous_df = instrument_df[instrument_df['scheme'] == 'continuous'].copy()\n",
    "# Calculate the mean time-series for 'continuous' scheme\n",
    "continuous_mean = continuous_df.groupby(by=['pass_no', 'flash_no'])[['time_float', 'signal']].mean().reset_index()\n",
    "\n",
    "display(continuous_mean)"
   ]
  },
  {
   "cell_type": "code",
   "execution_count": 12,
   "metadata": {},
   "outputs": [
    {
     "data": {
      "image/png": "[encoded data removed]",
      "text/plain": [
       "<Figure size 640x480 with 1 Axes>"
      ]
     },
     "metadata": {},
     "output_type": "display_data"
    }
   ],
   "source": [
    "# Plot individual runs for 'discrete' scheme\n",
    "for run_key, group in discrete_df.groupby(['run_no']):\n",
    "    plt.scatter(group['time_float'], group['signal'], label=f'Discrete Run# {run_key[0]}')\n",
    "\n",
    "# Plot individual runs for 'continuous' scheme\n",
    "for run_key, group in continuous_df.groupby(['run_no']):\n",
    "    plt.scatter(group['time_float'], group['signal'], label=f'Continuous Run# {run_key[0]}')\n",
    "\n",
    "# Plot the mean time-series for 'discrete' scheme\n",
    "plt.plot(discrete_mean['time_float'], discrete_mean['signal'], label='Mean (discrete)', linestyle='--')\n",
    "\n",
    "# Plot the mean time-series for 'continuous' scheme\n",
    "plt.plot(continuous_mean['time_float'], continuous_mean['signal'], label='Mean (continuous)', linestyle='--')\n",
    "\n",
    "# Customize the plot\n",
    "plt.xlabel('Time')\n",
    "plt.ylabel('Signal')\n",
    "plt.title(f'Time-Series Analysis for {instrument_name}')\n",
    "plt.grid(True)\n",
    "\n",
    "# Place the legend on the right side of the plot\n",
    "plt.legend(bbox_to_anchor=(1.05, 1), loc='upper left')\n",
    "\n",
    "# Show the plot\n",
    "plt.show()"
   ]
  },
  {
   "cell_type": "code",
   "execution_count": 16,
   "metadata": {},
   "outputs": [
    {
     "data": {
      "text/html": [
       "        <script type=\"text/javascript\">\n",
       "        window.PlotlyConfig = {MathJaxConfig: 'local'};\n",
       "        if (window.MathJax && window.MathJax.Hub && window.MathJax.Hub.Config) {window.MathJax.Hub.Config({SVG: {font: \"STIX-Web\"}});}\n",
       "        if (typeof require !== 'undefined') {\n",
       "        require.undef(\"plotly\");\n",
       "        requirejs.config({\n",
       "            paths: {\n",
       "                'plotly': ['https://cdn.plot.ly/plotly-2.25.2.min']\n",
       "            }\n",
       "        });\n",
       "        require(['plotly'], function(Plotly) {\n",
       "            window._Plotly = Plotly;\n",
       "        });\n",
       "        }\n",
       "        </script>\n",
       "        "
      ]
     },
     "metadata": {},
     "output_type": "display_data"
    },
    {
     "data": {
      "application/vnd.plotly.v1+json": {
       "config": {
        "plotlyServerURL": "https://plot.ly"
       },
       "data": [
        {
         "marker": {
          "size": 8,
          "symbol": "circle"
         },
         "mode": "markers",
         "name": "Discrete Run (1,)",
         "type": "scatter",
         "x": [
          5.14660136182978,
          5.14092424256386,
          5.12077199355632,
          6.23762788961592,
          6.27018924593025,
          6.21332029261997,
          7.63848886269377,
          7.68513157986226,
          7.69258674549693
         ],
         "y": [
          0.253363068469836,
          0.217532906780573,
          0.266664919506571,
          0.424501736127693,
          0.428470497092462,
          0.43621039939489,
          0.632308632470105,
          0.619283443487717,
          0.658962939557995
         ]
        },
        {
         "marker": {
          "size": 8,
          "symbol": "circle"
         },
         "mode": "markers",
         "name": "Discrete Run (2,)",
         "type": "scatter",
         "x": [
          5.11738026334424,
          5.16938613360265,
          5.12982299012094,
          6.21872398596438,
          6.2191651653515,
          6.20064488506047,
          7.65229165734028,
          7.64367691180361,
          7.62753695820195
         ],
         "y": [
          0.233196704187106,
          0.255696504119334,
          0.205060969538454,
          0.435929953160907,
          0.498562330503467,
          0.450463623615036,
          0.636453019010553,
          0.674966460902926,
          0.633663338879029
         ]
        },
        {
         "marker": {
          "size": 8,
          "symbol": "x"
         },
         "mode": "markers",
         "name": "Continuous Run (1,)",
         "type": "scatter",
         "x": [
          4.06970661284072,
          4.50432331512904,
          4.94872727099199,
          5.17325018743272,
          5.19183853227673,
          5.66552066921827,
          5.77464057359362,
          6.08635692694152,
          6.359211344896,
          6.85839651772225,
          7.11403789531197,
          7.18875476552139,
          7.31827509833182,
          7.38921786783651,
          7.50792375723526,
          7.63847520439198,
          7.88922609922018,
          8.11013326464959
         ],
         "y": [
          0.253363068469836,
          0.287235756832881,
          0.292937141939596,
          0.312955061705458,
          0.341135428773087,
          0.380201081511358,
          0.389959786166663,
          0.424660786083013,
          0.459160759303832,
          0.46560364447895,
          0.476417471192214,
          0.514900891540864,
          0.530701202372502,
          0.562297589202247,
          0.570075280108957,
          0.595279224425594,
          0.632556174054984,
          0.677707740351193
         ]
        },
        {
         "marker": {
          "size": 8,
          "symbol": "x"
         },
         "mode": "markers",
         "name": "Continuous Run (2,)",
         "type": "scatter",
         "x": [
          4.10083499493704,
          4.56362243519144,
          4.99756081494911,
          5.23414414113429,
          5.25971249606012,
          5.68270440327784,
          5.78322549741746,
          6.137007913244,
          6.43136325887941,
          6.94840119560772,
          7.14753296238006,
          7.25260165763837,
          7.40769429954766,
          7.45953183298727,
          7.51674208147238,
          7.65674564358902,
          7.88961103993055,
          8.19769799933476
         ],
         "y": [
          0.329571347625882,
          0.337877929057026,
          0.374179681170569,
          0.402028452410585,
          0.344245278669978,
          0.444639606426956,
          0.437484755672367,
          0.46087677023113,
          0.549584356269613,
          0.532963857504563,
          0.53401473154666,
          0.525579361955311,
          0.54727405806534,
          0.596706828127401,
          0.653346786739358,
          0.671999728673967,
          0.678005482780793,
          0.698829238256549
         ]
        },
        {
         "marker": {
          "size": 8,
          "symbol": "x"
         },
         "mode": "markers",
         "name": "Continuous Run (3,)",
         "type": "scatter",
         "x": [
          4.11073940570046,
          4.55548329592791,
          4.99664625423542,
          5.21795217482085,
          5.21779334016073,
          5.76200305685479,
          5.79214037016888,
          6.09838566260858,
          6.39382014315991,
          6.95420122891091,
          7.14054451765562,
          7.20551600754568,
          7.33063771180278,
          7.45338649759508,
          7.54809587665434,
          7.69822190097824,
          7.97829618112855,
          8.20972118480981
         ],
         "y": [
          0.326313755239524,
          0.334101344911596,
          0.369567268696722,
          0.329696231300241,
          0.426607350488866,
          0.392994344789838,
          0.399109091411868,
          0.498012593233324,
          0.529297852430441,
          0.561994261263258,
          0.514432726350096,
          0.552475783695382,
          0.545420557111356,
          0.602108685259539,
          0.621390228187899,
          0.647631792543211,
          0.706807395065523,
          0.772107309108312
         ]
        },
        {
         "marker": {
          "size": 8,
          "symbol": "x"
         },
         "mode": "markers",
         "name": "Continuous Run (4,)",
         "type": "scatter",
         "x": [
          4.12964656195223,
          4.6450829142151,
          5.01971945100546,
          5.3320124363222,
          5.35471218691526,
          5.77212095032268,
          5.86068255610793,
          6.14899480722109,
          6.47465592943179,
          6.97512593348191,
          7.22125881085268,
          7.32654364986119,
          7.47895200322147,
          7.49808271286731,
          7.53695958033577,
          7.65953819045286,
          7.9559373239873,
          8.25380954188289
         ],
         "y": [
          0.417839971925974,
          0.429222102512775,
          0.405683054309692,
          0.490737258783926,
          0.372893948546681,
          0.464984299042483,
          0.456275587879633,
          0.489438812804182,
          0.553811313368231,
          0.563632829290119,
          0.566161354298185,
          0.619813833477239,
          0.561667953026705,
          0.649841567529807,
          0.678299549108229,
          0.742587901507337,
          0.771241848769809,
          0.79413854556159
         ]
        },
        {
         "line": {
          "dash": "dash"
         },
         "mode": "lines",
         "name": "Mean (discrete)",
         "type": "scatter",
         "x": [
          5.131990812587009,
          5.1551551880832545,
          5.12529749183863,
          6.22817593779015,
          6.244677205640874,
          6.20698258884022,
          7.645390260017026,
          7.664404245832935,
          7.66006185184944
         ],
         "y": [
          0.24327988632847097,
          0.2366147054499535,
          0.2358629445225125,
          0.43021584464429996,
          0.4635164137979645,
          0.44333701150496296,
          0.634380825740329,
          0.6471249521953215,
          0.646313139218512
         ]
        },
        {
         "line": {
          "dash": "dash"
         },
         "mode": "lines",
         "name": "Mean (continuous)",
         "type": "scatter",
         "x": [
          4.102731893857612,
          4.567127990115872,
          4.9906634477954945,
          5.2393397349275155,
          5.25601413885321,
          5.720587269918395,
          5.802672249321972,
          6.117686327503797,
          6.414762669091777,
          6.934031218930698,
          7.1558435465500825,
          7.243354020141657,
          7.3838897782259325,
          7.450054727821542,
          7.527430323924437,
          7.663245234853025,
          7.928267661066645,
          8.192840497669263
         ],
         "y": [
          0.331772035815304,
          0.3471092833285695,
          0.36059178652914475,
          0.3838542510500525,
          0.37122050161965303,
          0.42070483294265876,
          0.4207073052826328,
          0.46824724058791223,
          0.5229635703430293,
          0.5310486481342225,
          0.5227565708467887,
          0.553192467667199,
          0.5462659426439758,
          0.6027386675297485,
          0.6307779610361107,
          0.6643746617875272,
          0.6971527251677773,
          0.735695708319411
         ]
        }
       ],
       "layout": {
        "showlegend": true,
        "template": {
         "data": {
          "bar": [
           {
            "error_x": {
             "color": "#2a3f5f"
            },
            "error_y": {
             "color": "#2a3f5f"
            },
            "marker": {
             "line": {
              "color": "#E5ECF6",
              "width": 0.5
             },
             "pattern": {
              "fillmode": "overlay",
              "size": 10,
              "solidity": 0.2
             }
            },
            "type": "bar"
           }
          ],
          "barpolar": [
           {
            "marker": {
             "line": {
              "color": "#E5ECF6",
              "width": 0.5
             },
             "pattern": {
              "fillmode": "overlay",
              "size": 10,
              "solidity": 0.2
             }
            },
            "type": "barpolar"
           }
          ],
          "carpet": [
           {
            "aaxis": {
             "endlinecolor": "#2a3f5f",
             "gridcolor": "white",
             "linecolor": "white",
             "minorgridcolor": "white",
             "startlinecolor": "#2a3f5f"
            },
            "baxis": {
             "endlinecolor": "#2a3f5f",
             "gridcolor": "white",
             "linecolor": "white",
             "minorgridcolor": "white",
             "startlinecolor": "#2a3f5f"
            },
            "type": "carpet"
           }
          ],
          "choropleth": [
           {
            "colorbar": {
             "outlinewidth": 0,
             "ticks": ""
            },
            "type": "choropleth"
           }
          ],
          "contour": [
           {
            "colorbar": {
             "outlinewidth": 0,
             "ticks": ""
            },
            "colorscale": [
             [
              0,
              "#0d0887"
             ],
             [
              0.1111111111111111,
              "#46039f"
             ],
             [
              0.2222222222222222,
              "#7201a8"
             ],
             [
              0.3333333333333333,
              "#9c179e"
             ],
             [
              0.4444444444444444,
              "#bd3786"
             ],
             [
              0.5555555555555556,
              "#d8576b"
             ],
             [
              0.6666666666666666,
              "#ed7953"
             ],
             [
              0.7777777777777778,
              "#fb9f3a"
             ],
             [
              0.8888888888888888,
              "#fdca26"
             ],
             [
              1,
              "#f0f921"
             ]
            ],
            "type": "contour"
           }
          ],
          "contourcarpet": [
           {
            "colorbar": {
             "outlinewidth": 0,
             "ticks": ""
            },
            "type": "contourcarpet"
           }
          ],
          "heatmap": [
           {
            "colorbar": {
             "outlinewidth": 0,
             "ticks": ""
            },
            "colorscale": [
             [
              0,
              "#0d0887"
             ],
             [
              0.1111111111111111,
              "#46039f"
             ],
             [
              0.2222222222222222,
              "#7201a8"
             ],
             [
              0.3333333333333333,
              "#9c179e"
             ],
             [
              0.4444444444444444,
              "#bd3786"
             ],
             [
              0.5555555555555556,
              "#d8576b"
             ],
             [
              0.6666666666666666,
              "#ed7953"
             ],
             [
              0.7777777777777778,
              "#fb9f3a"
             ],
             [
              0.8888888888888888,
              "#fdca26"
             ],
             [
              1,
              "#f0f921"
             ]
            ],
            "type": "heatmap"
           }
          ],
          "heatmapgl": [
           {
            "colorbar": {
             "outlinewidth": 0,
             "ticks": ""
            },
            "colorscale": [
             [
              0,
              "#0d0887"
             ],
             [
              0.1111111111111111,
              "#46039f"
             ],
             [
              0.2222222222222222,
              "#7201a8"
             ],
             [
              0.3333333333333333,
              "#9c179e"
             ],
             [
              0.4444444444444444,
              "#bd3786"
             ],
             [
              0.5555555555555556,
              "#d8576b"
             ],
             [
              0.6666666666666666,
              "#ed7953"
             ],
             [
              0.7777777777777778,
              "#fb9f3a"
             ],
             [
              0.8888888888888888,
              "#fdca26"
             ],
             [
              1,
              "#f0f921"
             ]
            ],
            "type": "heatmapgl"
           }
          ],
          "histogram": [
           {
            "marker": {
             "pattern": {
              "fillmode": "overlay",
              "size": 10,
              "solidity": 0.2
             }
            },
            "type": "histogram"
           }
          ],
          "histogram2d": [
           {
            "colorbar": {
             "outlinewidth": 0,
             "ticks": ""
            },
            "colorscale": [
             [
              0,
              "#0d0887"
             ],
             [
              0.1111111111111111,
              "#46039f"
             ],
             [
              0.2222222222222222,
              "#7201a8"
             ],
             [
              0.3333333333333333,
              "#9c179e"
             ],
             [
              0.4444444444444444,
              "#bd3786"
             ],
             [
              0.5555555555555556,
              "#d8576b"
             ],
             [
              0.6666666666666666,
              "#ed7953"
             ],
             [
              0.7777777777777778,
              "#fb9f3a"
             ],
             [
              0.8888888888888888,
              "#fdca26"
             ],
             [
              1,
              "#f0f921"
             ]
            ],
            "type": "histogram2d"
           }
          ],
          "histogram2dcontour": [
           {
            "colorbar": {
             "outlinewidth": 0,
             "ticks": ""
            },
            "colorscale": [
             [
              0,
              "#0d0887"
             ],
             [
              0.1111111111111111,
              "#46039f"
             ],
             [
              0.2222222222222222,
              "#7201a8"
             ],
             [
              0.3333333333333333,
              "#9c179e"
             ],
             [
              0.4444444444444444,
              "#bd3786"
             ],
             [
              0.5555555555555556,
              "#d8576b"
             ],
             [
              0.6666666666666666,
              "#ed7953"
             ],
             [
              0.7777777777777778,
              "#fb9f3a"
             ],
             [
              0.8888888888888888,
              "#fdca26"
             ],
             [
              1,
              "#f0f921"
             ]
            ],
            "type": "histogram2dcontour"
           }
          ],
          "mesh3d": [
           {
            "colorbar": {
             "outlinewidth": 0,
             "ticks": ""
            },
            "type": "mesh3d"
           }
          ],
          "parcoords": [
           {
            "line": {
             "colorbar": {
              "outlinewidth": 0,
              "ticks": ""
             }
            },
            "type": "parcoords"
           }
          ],
          "pie": [
           {
            "automargin": true,
            "type": "pie"
           }
          ],
          "scatter": [
           {
            "fillpattern": {
             "fillmode": "overlay",
             "size": 10,
             "solidity": 0.2
            },
            "type": "scatter"
           }
          ],
          "scatter3d": [
           {
            "line": {
             "colorbar": {
              "outlinewidth": 0,
              "ticks": ""
             }
            },
            "marker": {
             "colorbar": {
              "outlinewidth": 0,
              "ticks": ""
             }
            },
            "type": "scatter3d"
           }
          ],
          "scattercarpet": [
           {
            "marker": {
             "colorbar": {
              "outlinewidth": 0,
              "ticks": ""
             }
            },
            "type": "scattercarpet"
           }
          ],
          "scattergeo": [
           {
            "marker": {
             "colorbar": {
              "outlinewidth": 0,
              "ticks": ""
             }
            },
            "type": "scattergeo"
           }
          ],
          "scattergl": [
           {
            "marker": {
             "colorbar": {
              "outlinewidth": 0,
              "ticks": ""
             }
            },
            "type": "scattergl"
           }
          ],
          "scattermapbox": [
           {
            "marker": {
             "colorbar": {
              "outlinewidth": 0,
              "ticks": ""
             }
            },
            "type": "scattermapbox"
           }
          ],
          "scatterpolar": [
           {
            "marker": {
             "colorbar": {
              "outlinewidth": 0,
              "ticks": ""
             }
            },
            "type": "scatterpolar"
           }
          ],
          "scatterpolargl": [
           {
            "marker": {
             "colorbar": {
              "outlinewidth": 0,
              "ticks": ""
             }
            },
            "type": "scatterpolargl"
           }
          ],
          "scatterternary": [
           {
            "marker": {
             "colorbar": {
              "outlinewidth": 0,
              "ticks": ""
             }
            },
            "type": "scatterternary"
           }
          ],
          "surface": [
           {
            "colorbar": {
             "outlinewidth": 0,
             "ticks": ""
            },
            "colorscale": [
             [
              0,
              "#0d0887"
             ],
             [
              0.1111111111111111,
              "#46039f"
             ],
             [
              0.2222222222222222,
              "#7201a8"
             ],
             [
              0.3333333333333333,
              "#9c179e"
             ],
             [
              0.4444444444444444,
              "#bd3786"
             ],
             [
              0.5555555555555556,
              "#d8576b"
             ],
             [
              0.6666666666666666,
              "#ed7953"
             ],
             [
              0.7777777777777778,
              "#fb9f3a"
             ],
             [
              0.8888888888888888,
              "#fdca26"
             ],
             [
              1,
              "#f0f921"
             ]
            ],
            "type": "surface"
           }
          ],
          "table": [
           {
            "cells": {
             "fill": {
              "color": "#EBF0F8"
             },
             "line": {
              "color": "white"
             }
            },
            "header": {
             "fill": {
              "color": "#C8D4E3"
             },
             "line": {
              "color": "white"
             }
            },
            "type": "table"
           }
          ]
         },
         "layout": {
          "annotationdefaults": {
           "arrowcolor": "#2a3f5f",
           "arrowhead": 0,
           "arrowwidth": 1
          },
          "autotypenumbers": "strict",
          "coloraxis": {
           "colorbar": {
            "outlinewidth": 0,
            "ticks": ""
           }
          },
          "colorscale": {
           "diverging": [
            [
             0,
             "#8e0152"
            ],
            [
             0.1,
             "#c51b7d"
            ],
            [
             0.2,
             "#de77ae"
            ],
            [
             0.3,
             "#f1b6da"
            ],
            [
             0.4,
             "#fde0ef"
            ],
            [
             0.5,
             "#f7f7f7"
            ],
            [
             0.6,
             "#e6f5d0"
            ],
            [
             0.7,
             "#b8e186"
            ],
            [
             0.8,
             "#7fbc41"
            ],
            [
             0.9,
             "#4d9221"
            ],
            [
             1,
             "#276419"
            ]
           ],
           "sequential": [
            [
             0,
             "#0d0887"
            ],
            [
             0.1111111111111111,
             "#46039f"
            ],
            [
             0.2222222222222222,
             "#7201a8"
            ],
            [
             0.3333333333333333,
             "#9c179e"
            ],
            [
             0.4444444444444444,
             "#bd3786"
            ],
            [
             0.5555555555555556,
             "#d8576b"
            ],
            [
             0.6666666666666666,
             "#ed7953"
            ],
            [
             0.7777777777777778,
             "#fb9f3a"
            ],
            [
             0.8888888888888888,
             "#fdca26"
            ],
            [
             1,
             "#f0f921"
            ]
           ],
           "sequentialminus": [
            [
             0,
             "#0d0887"
            ],
            [
             0.1111111111111111,
             "#46039f"
            ],
            [
             0.2222222222222222,
             "#7201a8"
            ],
            [
             0.3333333333333333,
             "#9c179e"
            ],
            [
             0.4444444444444444,
             "#bd3786"
            ],
            [
             0.5555555555555556,
             "#d8576b"
            ],
            [
             0.6666666666666666,
             "#ed7953"
            ],
            [
             0.7777777777777778,
             "#fb9f3a"
            ],
            [
             0.8888888888888888,
             "#fdca26"
            ],
            [
             1,
             "#f0f921"
            ]
           ]
          },
          "colorway": [
           "#636efa",
           "#EF553B",
           "#00cc96",
           "#ab63fa",
           "#FFA15A",
           "#19d3f3",
           "#FF6692",
           "#B6E880",
           "#FF97FF",
           "#FECB52"
          ],
          "font": {
           "color": "#2a3f5f"
          },
          "geo": {
           "bgcolor": "white",
           "lakecolor": "white",
           "landcolor": "#E5ECF6",
           "showlakes": true,
           "showland": true,
           "subunitcolor": "white"
          },
          "hoverlabel": {
           "align": "left"
          },
          "hovermode": "closest",
          "mapbox": {
           "style": "light"
          },
          "paper_bgcolor": "white",
          "plot_bgcolor": "#E5ECF6",
          "polar": {
           "angularaxis": {
            "gridcolor": "white",
            "linecolor": "white",
            "ticks": ""
           },
           "bgcolor": "#E5ECF6",
           "radialaxis": {
            "gridcolor": "white",
            "linecolor": "white",
            "ticks": ""
           }
          },
          "scene": {
           "xaxis": {
            "backgroundcolor": "#E5ECF6",
            "gridcolor": "white",
            "gridwidth": 2,
            "linecolor": "white",
            "showbackground": true,
            "ticks": "",
            "zerolinecolor": "white"
           },
           "yaxis": {
            "backgroundcolor": "#E5ECF6",
            "gridcolor": "white",
            "gridwidth": 2,
            "linecolor": "white",
            "showbackground": true,
            "ticks": "",
            "zerolinecolor": "white"
           },
           "zaxis": {
            "backgroundcolor": "#E5ECF6",
            "gridcolor": "white",
            "gridwidth": 2,
            "linecolor": "white",
            "showbackground": true,
            "ticks": "",
            "zerolinecolor": "white"
           }
          },
          "shapedefaults": {
           "line": {
            "color": "#2a3f5f"
           }
          },
          "ternary": {
           "aaxis": {
            "gridcolor": "white",
            "linecolor": "white",
            "ticks": ""
           },
           "baxis": {
            "gridcolor": "white",
            "linecolor": "white",
            "ticks": ""
           },
           "bgcolor": "#E5ECF6",
           "caxis": {
            "gridcolor": "white",
            "linecolor": "white",
            "ticks": ""
           }
          },
          "title": {
           "x": 0.05
          },
          "xaxis": {
           "automargin": true,
           "gridcolor": "white",
           "linecolor": "white",
           "ticks": "",
           "title": {
            "standoff": 15
           },
           "zerolinecolor": "white",
           "zerolinewidth": 2
          },
          "yaxis": {
           "automargin": true,
           "gridcolor": "white",
           "linecolor": "white",
           "ticks": "",
           "title": {
            "standoff": 15
           },
           "zerolinecolor": "white",
           "zerolinewidth": 2
          }
         }
        },
        "title": {
         "text": "Time-Series Analysis for i10",
         "x": 0.5
        },
        "xaxis": {
         "title": {
          "text": "Time"
         }
        },
        "yaxis": {
         "title": {
          "text": "Signal"
         }
        }
       }
      },
      "text/html": [
       "<div>                            <div id=\"99de51a6-0c90-46ab-9a79-94b553b32f7b\" class=\"plotly-graph-div\" style=\"height:525px; width:100%;\"></div>            <script type=\"text/javascript\">                require([\"plotly\"], function(Plotly) {                    window.PLOTLYENV=window.PLOTLYENV || {};                                    if (document.getElementById(\"99de51a6-0c90-46ab-9a79-94b553b32f7b\")) {                    Plotly.newPlot(                        \"99de51a6-0c90-46ab-9a79-94b553b32f7b\",                        [{\"marker\":{\"size\":8,\"symbol\":\"circle\"},\"mode\":\"markers\",\"name\":\"Discrete Run (1,)\",\"x\":[5.14660136182978,5.14092424256386,5.12077199355632,6.23762788961592,6.27018924593025,6.21332029261997,7.63848886269377,7.68513157986226,7.69258674549693],\"y\":[0.253363068469836,0.217532906780573,0.266664919506571,0.424501736127693,0.428470497092462,0.43621039939489,0.632308632470105,0.619283443487717,0.658962939557995],\"type\":\"scatter\"},{\"marker\":{\"size\":8,\"symbol\":\"circle\"},\"mode\":\"markers\",\"name\":\"Discrete Run (2,)\",\"x\":[5.11738026334424,5.16938613360265,5.12982299012094,6.21872398596438,6.2191651653515,6.20064488506047,7.65229165734028,7.64367691180361,7.62753695820195],\"y\":[0.233196704187106,0.255696504119334,0.205060969538454,0.435929953160907,0.498562330503467,0.450463623615036,0.636453019010553,0.674966460902926,0.633663338879029],\"type\":\"scatter\"},{\"marker\":{\"size\":8,\"symbol\":\"x\"},\"mode\":\"markers\",\"name\":\"Continuous Run (1,)\",\"x\":[4.06970661284072,4.50432331512904,4.94872727099199,5.17325018743272,5.19183853227673,5.66552066921827,5.77464057359362,6.08635692694152,6.359211344896,6.85839651772225,7.11403789531197,7.18875476552139,7.31827509833182,7.38921786783651,7.50792375723526,7.63847520439198,7.88922609922018,8.11013326464959],\"y\":[0.253363068469836,0.287235756832881,0.292937141939596,0.312955061705458,0.341135428773087,0.380201081511358,0.389959786166663,0.424660786083013,0.459160759303832,0.46560364447895,0.476417471192214,0.514900891540864,0.530701202372502,0.562297589202247,0.570075280108957,0.595279224425594,0.632556174054984,0.677707740351193],\"type\":\"scatter\"},{\"marker\":{\"size\":8,\"symbol\":\"x\"},\"mode\":\"markers\",\"name\":\"Continuous Run (2,)\",\"x\":[4.10083499493704,4.56362243519144,4.99756081494911,5.23414414113429,5.25971249606012,5.68270440327784,5.78322549741746,6.137007913244,6.43136325887941,6.94840119560772,7.14753296238006,7.25260165763837,7.40769429954766,7.45953183298727,7.51674208147238,7.65674564358902,7.88961103993055,8.19769799933476],\"y\":[0.329571347625882,0.337877929057026,0.374179681170569,0.402028452410585,0.344245278669978,0.444639606426956,0.437484755672367,0.46087677023113,0.549584356269613,0.532963857504563,0.53401473154666,0.525579361955311,0.54727405806534,0.596706828127401,0.653346786739358,0.671999728673967,0.678005482780793,0.698829238256549],\"type\":\"scatter\"},{\"marker\":{\"size\":8,\"symbol\":\"x\"},\"mode\":\"markers\",\"name\":\"Continuous Run (3,)\",\"x\":[4.11073940570046,4.55548329592791,4.99664625423542,5.21795217482085,5.21779334016073,5.76200305685479,5.79214037016888,6.09838566260858,6.39382014315991,6.95420122891091,7.14054451765562,7.20551600754568,7.33063771180278,7.45338649759508,7.54809587665434,7.69822190097824,7.97829618112855,8.20972118480981],\"y\":[0.326313755239524,0.334101344911596,0.369567268696722,0.329696231300241,0.426607350488866,0.392994344789838,0.399109091411868,0.498012593233324,0.529297852430441,0.561994261263258,0.514432726350096,0.552475783695382,0.545420557111356,0.602108685259539,0.621390228187899,0.647631792543211,0.706807395065523,0.772107309108312],\"type\":\"scatter\"},{\"marker\":{\"size\":8,\"symbol\":\"x\"},\"mode\":\"markers\",\"name\":\"Continuous Run (4,)\",\"x\":[4.12964656195223,4.6450829142151,5.01971945100546,5.3320124363222,5.35471218691526,5.77212095032268,5.86068255610793,6.14899480722109,6.47465592943179,6.97512593348191,7.22125881085268,7.32654364986119,7.47895200322147,7.49808271286731,7.53695958033577,7.65953819045286,7.9559373239873,8.25380954188289],\"y\":[0.417839971925974,0.429222102512775,0.405683054309692,0.490737258783926,0.372893948546681,0.464984299042483,0.456275587879633,0.489438812804182,0.553811313368231,0.563632829290119,0.566161354298185,0.619813833477239,0.561667953026705,0.649841567529807,0.678299549108229,0.742587901507337,0.771241848769809,0.79413854556159],\"type\":\"scatter\"},{\"line\":{\"dash\":\"dash\"},\"mode\":\"lines\",\"name\":\"Mean (discrete)\",\"x\":[5.131990812587009,5.1551551880832545,5.12529749183863,6.22817593779015,6.244677205640874,6.20698258884022,7.645390260017026,7.664404245832935,7.66006185184944],\"y\":[0.24327988632847097,0.2366147054499535,0.2358629445225125,0.43021584464429996,0.4635164137979645,0.44333701150496296,0.634380825740329,0.6471249521953215,0.646313139218512],\"type\":\"scatter\"},{\"line\":{\"dash\":\"dash\"},\"mode\":\"lines\",\"name\":\"Mean (continuous)\",\"x\":[4.102731893857612,4.567127990115872,4.9906634477954945,5.2393397349275155,5.25601413885321,5.720587269918395,5.802672249321972,6.117686327503797,6.414762669091777,6.934031218930698,7.1558435465500825,7.243354020141657,7.3838897782259325,7.450054727821542,7.527430323924437,7.663245234853025,7.928267661066645,8.192840497669263],\"y\":[0.331772035815304,0.3471092833285695,0.36059178652914475,0.3838542510500525,0.37122050161965303,0.42070483294265876,0.4207073052826328,0.46824724058791223,0.5229635703430293,0.5310486481342225,0.5227565708467887,0.553192467667199,0.5462659426439758,0.6027386675297485,0.6307779610361107,0.6643746617875272,0.6971527251677773,0.735695708319411],\"type\":\"scatter\"}],                        {\"showlegend\":true,\"title\":{\"text\":\"Time-Series Analysis for i10\",\"x\":0.5},\"xaxis\":{\"title\":{\"text\":\"Time\"}},\"yaxis\":{\"title\":{\"text\":\"Signal\"}},\"template\":{\"data\":{\"histogram2dcontour\":[{\"type\":\"histogram2dcontour\",\"colorbar\":{\"outlinewidth\":0,\"ticks\":\"\"},\"colorscale\":[[0.0,\"#0d0887\"],[0.1111111111111111,\"#46039f\"],[0.2222222222222222,\"#7201a8\"],[0.3333333333333333,\"#9c179e\"],[0.4444444444444444,\"#bd3786\"],[0.5555555555555556,\"#d8576b\"],[0.6666666666666666,\"#ed7953\"],[0.7777777777777778,\"#fb9f3a\"],[0.8888888888888888,\"#fdca26\"],[1.0,\"#f0f921\"]]}],\"choropleth\":[{\"type\":\"choropleth\",\"colorbar\":{\"outlinewidth\":0,\"ticks\":\"\"}}],\"histogram2d\":[{\"type\":\"histogram2d\",\"colorbar\":{\"outlinewidth\":0,\"ticks\":\"\"},\"colorscale\":[[0.0,\"#0d0887\"],[0.1111111111111111,\"#46039f\"],[0.2222222222222222,\"#7201a8\"],[0.3333333333333333,\"#9c179e\"],[0.4444444444444444,\"#bd3786\"],[0.5555555555555556,\"#d8576b\"],[0.6666666666666666,\"#ed7953\"],[0.7777777777777778,\"#fb9f3a\"],[0.8888888888888888,\"#fdca26\"],[1.0,\"#f0f921\"]]}],\"heatmap\":[{\"type\":\"heatmap\",\"colorbar\":{\"outlinewidth\":0,\"ticks\":\"\"},\"colorscale\":[[0.0,\"#0d0887\"],[0.1111111111111111,\"#46039f\"],[0.2222222222222222,\"#7201a8\"],[0.3333333333333333,\"#9c179e\"],[0.4444444444444444,\"#bd3786\"],[0.5555555555555556,\"#d8576b\"],[0.6666666666666666,\"#ed7953\"],[0.7777777777777778,\"#fb9f3a\"],[0.8888888888888888,\"#fdca26\"],[1.0,\"#f0f921\"]]}],\"heatmapgl\":[{\"type\":\"heatmapgl\",\"colorbar\":{\"outlinewidth\":0,\"ticks\":\"\"},\"colorscale\":[[0.0,\"#0d0887\"],[0.1111111111111111,\"#46039f\"],[0.2222222222222222,\"#7201a8\"],[0.3333333333333333,\"#9c179e\"],[0.4444444444444444,\"#bd3786\"],[0.5555555555555556,\"#d8576b\"],[0.6666666666666666,\"#ed7953\"],[0.7777777777777778,\"#fb9f3a\"],[0.8888888888888888,\"#fdca26\"],[1.0,\"#f0f921\"]]}],\"contourcarpet\":[{\"type\":\"contourcarpet\",\"colorbar\":{\"outlinewidth\":0,\"ticks\":\"\"}}],\"contour\":[{\"type\":\"contour\",\"colorbar\":{\"outlinewidth\":0,\"ticks\":\"\"},\"colorscale\":[[0.0,\"#0d0887\"],[0.1111111111111111,\"#46039f\"],[0.2222222222222222,\"#7201a8\"],[0.3333333333333333,\"#9c179e\"],[0.4444444444444444,\"#bd3786\"],[0.5555555555555556,\"#d8576b\"],[0.6666666666666666,\"#ed7953\"],[0.7777777777777778,\"#fb9f3a\"],[0.8888888888888888,\"#fdca26\"],[1.0,\"#f0f921\"]]}],\"surface\":[{\"type\":\"surface\",\"colorbar\":{\"outlinewidth\":0,\"ticks\":\"\"},\"colorscale\":[[0.0,\"#0d0887\"],[0.1111111111111111,\"#46039f\"],[0.2222222222222222,\"#7201a8\"],[0.3333333333333333,\"#9c179e\"],[0.4444444444444444,\"#bd3786\"],[0.5555555555555556,\"#d8576b\"],[0.6666666666666666,\"#ed7953\"],[0.7777777777777778,\"#fb9f3a\"],[0.8888888888888888,\"#fdca26\"],[1.0,\"#f0f921\"]]}],\"mesh3d\":[{\"type\":\"mesh3d\",\"colorbar\":{\"outlinewidth\":0,\"ticks\":\"\"}}],\"scatter\":[{\"fillpattern\":{\"fillmode\":\"overlay\",\"size\":10,\"solidity\":0.2},\"type\":\"scatter\"}],\"parcoords\":[{\"type\":\"parcoords\",\"line\":{\"colorbar\":{\"outlinewidth\":0,\"ticks\":\"\"}}}],\"scatterpolargl\":[{\"type\":\"scatterpolargl\",\"marker\":{\"colorbar\":{\"outlinewidth\":0,\"ticks\":\"\"}}}],\"bar\":[{\"error_x\":{\"color\":\"#2a3f5f\"},\"error_y\":{\"color\":\"#2a3f5f\"},\"marker\":{\"line\":{\"color\":\"#E5ECF6\",\"width\":0.5},\"pattern\":{\"fillmode\":\"overlay\",\"size\":10,\"solidity\":0.2}},\"type\":\"bar\"}],\"scattergeo\":[{\"type\":\"scattergeo\",\"marker\":{\"colorbar\":{\"outlinewidth\":0,\"ticks\":\"\"}}}],\"scatterpolar\":[{\"type\":\"scatterpolar\",\"marker\":{\"colorbar\":{\"outlinewidth\":0,\"ticks\":\"\"}}}],\"histogram\":[{\"marker\":{\"pattern\":{\"fillmode\":\"overlay\",\"size\":10,\"solidity\":0.2}},\"type\":\"histogram\"}],\"scattergl\":[{\"type\":\"scattergl\",\"marker\":{\"colorbar\":{\"outlinewidth\":0,\"ticks\":\"\"}}}],\"scatter3d\":[{\"type\":\"scatter3d\",\"line\":{\"colorbar\":{\"outlinewidth\":0,\"ticks\":\"\"}},\"marker\":{\"colorbar\":{\"outlinewidth\":0,\"ticks\":\"\"}}}],\"scattermapbox\":[{\"type\":\"scattermapbox\",\"marker\":{\"colorbar\":{\"outlinewidth\":0,\"ticks\":\"\"}}}],\"scatterternary\":[{\"type\":\"scatterternary\",\"marker\":{\"colorbar\":{\"outlinewidth\":0,\"ticks\":\"\"}}}],\"scattercarpet\":[{\"type\":\"scattercarpet\",\"marker\":{\"colorbar\":{\"outlinewidth\":0,\"ticks\":\"\"}}}],\"carpet\":[{\"aaxis\":{\"endlinecolor\":\"#2a3f5f\",\"gridcolor\":\"white\",\"linecolor\":\"white\",\"minorgridcolor\":\"white\",\"startlinecolor\":\"#2a3f5f\"},\"baxis\":{\"endlinecolor\":\"#2a3f5f\",\"gridcolor\":\"white\",\"linecolor\":\"white\",\"minorgridcolor\":\"white\",\"startlinecolor\":\"#2a3f5f\"},\"type\":\"carpet\"}],\"table\":[{\"cells\":{\"fill\":{\"color\":\"#EBF0F8\"},\"line\":{\"color\":\"white\"}},\"header\":{\"fill\":{\"color\":\"#C8D4E3\"},\"line\":{\"color\":\"white\"}},\"type\":\"table\"}],\"barpolar\":[{\"marker\":{\"line\":{\"color\":\"#E5ECF6\",\"width\":0.5},\"pattern\":{\"fillmode\":\"overlay\",\"size\":10,\"solidity\":0.2}},\"type\":\"barpolar\"}],\"pie\":[{\"automargin\":true,\"type\":\"pie\"}]},\"layout\":{\"autotypenumbers\":\"strict\",\"colorway\":[\"#636efa\",\"#EF553B\",\"#00cc96\",\"#ab63fa\",\"#FFA15A\",\"#19d3f3\",\"#FF6692\",\"#B6E880\",\"#FF97FF\",\"#FECB52\"],\"font\":{\"color\":\"#2a3f5f\"},\"hovermode\":\"closest\",\"hoverlabel\":{\"align\":\"left\"},\"paper_bgcolor\":\"white\",\"plot_bgcolor\":\"#E5ECF6\",\"polar\":{\"bgcolor\":\"#E5ECF6\",\"angularaxis\":{\"gridcolor\":\"white\",\"linecolor\":\"white\",\"ticks\":\"\"},\"radialaxis\":{\"gridcolor\":\"white\",\"linecolor\":\"white\",\"ticks\":\"\"}},\"ternary\":{\"bgcolor\":\"#E5ECF6\",\"aaxis\":{\"gridcolor\":\"white\",\"linecolor\":\"white\",\"ticks\":\"\"},\"baxis\":{\"gridcolor\":\"white\",\"linecolor\":\"white\",\"ticks\":\"\"},\"caxis\":{\"gridcolor\":\"white\",\"linecolor\":\"white\",\"ticks\":\"\"}},\"coloraxis\":{\"colorbar\":{\"outlinewidth\":0,\"ticks\":\"\"}},\"colorscale\":{\"sequential\":[[0.0,\"#0d0887\"],[0.1111111111111111,\"#46039f\"],[0.2222222222222222,\"#7201a8\"],[0.3333333333333333,\"#9c179e\"],[0.4444444444444444,\"#bd3786\"],[0.5555555555555556,\"#d8576b\"],[0.6666666666666666,\"#ed7953\"],[0.7777777777777778,\"#fb9f3a\"],[0.8888888888888888,\"#fdca26\"],[1.0,\"#f0f921\"]],\"sequentialminus\":[[0.0,\"#0d0887\"],[0.1111111111111111,\"#46039f\"],[0.2222222222222222,\"#7201a8\"],[0.3333333333333333,\"#9c179e\"],[0.4444444444444444,\"#bd3786\"],[0.5555555555555556,\"#d8576b\"],[0.6666666666666666,\"#ed7953\"],[0.7777777777777778,\"#fb9f3a\"],[0.8888888888888888,\"#fdca26\"],[1.0,\"#f0f921\"]],\"diverging\":[[0,\"#8e0152\"],[0.1,\"#c51b7d\"],[0.2,\"#de77ae\"],[0.3,\"#f1b6da\"],[0.4,\"#fde0ef\"],[0.5,\"#f7f7f7\"],[0.6,\"#e6f5d0\"],[0.7,\"#b8e186\"],[0.8,\"#7fbc41\"],[0.9,\"#4d9221\"],[1,\"#276419\"]]},\"xaxis\":{\"gridcolor\":\"white\",\"linecolor\":\"white\",\"ticks\":\"\",\"title\":{\"standoff\":15},\"zerolinecolor\":\"white\",\"automargin\":true,\"zerolinewidth\":2},\"yaxis\":{\"gridcolor\":\"white\",\"linecolor\":\"white\",\"ticks\":\"\",\"title\":{\"standoff\":15},\"zerolinecolor\":\"white\",\"automargin\":true,\"zerolinewidth\":2},\"scene\":{\"xaxis\":{\"backgroundcolor\":\"#E5ECF6\",\"gridcolor\":\"white\",\"linecolor\":\"white\",\"showbackground\":true,\"ticks\":\"\",\"zerolinecolor\":\"white\",\"gridwidth\":2},\"yaxis\":{\"backgroundcolor\":\"#E5ECF6\",\"gridcolor\":\"white\",\"linecolor\":\"white\",\"showbackground\":true,\"ticks\":\"\",\"zerolinecolor\":\"white\",\"gridwidth\":2},\"zaxis\":{\"backgroundcolor\":\"#E5ECF6\",\"gridcolor\":\"white\",\"linecolor\":\"white\",\"showbackground\":true,\"ticks\":\"\",\"zerolinecolor\":\"white\",\"gridwidth\":2}},\"shapedefaults\":{\"line\":{\"color\":\"#2a3f5f\"}},\"annotationdefaults\":{\"arrowcolor\":\"#2a3f5f\",\"arrowhead\":0,\"arrowwidth\":1},\"geo\":{\"bgcolor\":\"white\",\"landcolor\":\"#E5ECF6\",\"subunitcolor\":\"white\",\"showland\":true,\"showlakes\":true,\"lakecolor\":\"white\"},\"title\":{\"x\":0.05},\"mapbox\":{\"style\":\"light\"}}}},                        {\"responsive\": true}                    ).then(function(){\n",
       "                            \n",
       "var gd = document.getElementById('99de51a6-0c90-46ab-9a79-94b553b32f7b');\n",
       "var x = new MutationObserver(function (mutations, observer) {{\n",
       "        var display = window.getComputedStyle(gd).display;\n",
       "        if (!display || display === 'none') {{\n",
       "            console.log([gd, 'removed!']);\n",
       "            Plotly.purge(gd);\n",
       "            observer.disconnect();\n",
       "        }}\n",
       "}});\n",
       "\n",
       "// Listen for the removal of the full notebook cells\n",
       "var notebookContainer = gd.closest('#notebook-container');\n",
       "if (notebookContainer) {{\n",
       "    x.observe(notebookContainer, {childList: true});\n",
       "}}\n",
       "\n",
       "// Listen for the clearing of the current output cell\n",
       "var outputEl = gd.closest('.output');\n",
       "if (outputEl) {{\n",
       "    x.observe(outputEl, {childList: true});\n",
       "}}\n",
       "\n",
       "                        })                };                });            </script>        </div>"
      ]
     },
     "metadata": {},
     "output_type": "display_data"
    }
   ],
   "source": [
    "# Create traces for individual runs (discrete)\n",
    "discrete_traces = []\n",
    "for run_no, group in discrete_df.groupby(['run_no']):\n",
    "    discrete_traces.append(\n",
    "        go.Scatter(\n",
    "            x=group['time_float'],\n",
    "            y=group['signal'],\n",
    "            mode='markers',\n",
    "            name=f'Discrete Run {run_no}',\n",
    "            marker=dict(symbol='circle', size=8)\n",
    "        )\n",
    "    )\n",
    "\n",
    "# Create traces for individual runs (continuous)\n",
    "continuous_traces = []\n",
    "for run_no, group in continuous_df.groupby(['run_no']):\n",
    "    continuous_traces.append(\n",
    "        go.Scatter(\n",
    "            x=group['time_float'],\n",
    "            y=group['signal'],\n",
    "            mode='markers',\n",
    "            name=f'Continuous Run {run_no}',\n",
    "            marker=dict(symbol='x', size=8)\n",
    "        )\n",
    "    )\n",
    "\n",
    "# Create traces for the mean time-series (discrete)\n",
    "discrete_mean_trace = go.Scatter(\n",
    "    x=discrete_mean['time_float'],\n",
    "    y=discrete_mean['signal'],\n",
    "    mode='lines',\n",
    "    name='Mean (discrete)',\n",
    "    line=dict(dash='dash')\n",
    ")\n",
    "\n",
    "# Create traces for the mean time-series (continuous)\n",
    "continuous_mean_trace = go.Scatter(\n",
    "    x=continuous_mean['time_float'],\n",
    "    y=continuous_mean['signal'],\n",
    "    mode='lines',\n",
    "    name='Mean (continuous)',\n",
    "    line=dict(dash='dash')\n",
    ")\n",
    "\n",
    "# Customize the layout\n",
    "layout = go.Layout(\n",
    "    xaxis=dict(title='Time'),\n",
    "    yaxis=dict(title='Signal'),\n",
    "    title=f'Time-Series Analysis for {instrument_name}',\n",
    "    title_x=0.5,\n",
    "    showlegend=True\n",
    ")\n",
    "\n",
    "# Initialize Plotly for Jupyter Notebook\n",
    "pyo.init_notebook_mode(connected=True)\n",
    "\n",
    "# # Create a figure for individual runs (discrete)\n",
    "# discrete_fig = go.Figure(data=discrete_traces, layout=layout)\n",
    "# # Create a figure for individual runs (continuous)\n",
    "# continuous_fig = go.Figure(data=continuous_traces, layout=layout)\n",
    "# # Add traces for the mean time-series\n",
    "# discrete_fig.add_trace(discrete_mean_trace)\n",
    "# continuous_fig.add_trace(continuous_mean_trace)\n",
    "# # Display the figures in the notebook\n",
    "# discrete_fig.show()\n",
    "# continuous_fig.show()\n",
    "\n",
    "# Create a figure containing both sets of traces\n",
    "fig = go.Figure(data=discrete_traces + continuous_traces + [discrete_mean_trace, continuous_mean_trace], layout=layout)\n",
    "# Display the figure in the notebook\n",
    "fig.show()"
   ]
  }
 ],
 "metadata": {
  "kernelspec": {
   "display_name": "notebook_env",
   "language": "python",
   "name": "notebook_env"
  },
  "language_info": {
   "codemirror_mode": {
    "name": "ipython",
    "version": 3
   },
   "file_extension": ".py",
   "mimetype": "text/x-python",
   "name": "python",
   "nbconvert_exporter": "python",
   "pygments_lexer": "ipython3",
   "version": "3.8.10"
  },
  "orig_nbformat": 4
 },
 "nbformat": 4,
 "nbformat_minor": 2
}
